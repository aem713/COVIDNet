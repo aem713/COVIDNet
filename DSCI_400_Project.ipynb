{
  "nbformat": 4,
  "nbformat_minor": 0,
  "metadata": {
    "colab": {
      "name": "DSCI 400 Project",
      "provenance": [],
      "authorship_tag": "ABX9TyMKmMDd32Z+dztsSSkYgjG8"
    },
    "kernelspec": {
      "name": "python3",
      "display_name": "Python 3"
    }
  },
  "cells": [
    {
      "cell_type": "markdown",
      "metadata": {
        "id": "0X_w9TRFL7yl"
      },
      "source": [
        "This is  a test"
      ]
    },
    {
      "cell_type": "code",
      "metadata": {
        "colab": {
          "base_uri": "https://localhost:8080/"
        },
        "id": "VNhepNnqLvZ6",
        "outputId": "4fa8caef-143a-400a-b63c-c68dc4fe5155"
      },
      "source": [
        "print(1+1)"
      ],
      "execution_count": 1,
      "outputs": [
        {
          "output_type": "stream",
          "text": [
            "2\n"
          ],
          "name": "stdout"
        }
      ]
    },
    {
      "cell_type": "markdown",
      "metadata": {
        "id": "EljEBe5KOROB"
      },
      "source": [
        "Testing my branch"
      ]
    }
  ]
}