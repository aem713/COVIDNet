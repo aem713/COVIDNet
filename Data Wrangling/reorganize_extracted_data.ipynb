{
  "nbformat": 4,
  "nbformat_minor": 0,
  "metadata": {
    "colab": {
      "name": "reorganize_extracted_data",
      "provenance": [],
      "collapsed_sections": [],
      "toc_visible": true
    },
    "kernelspec": {
      "name": "python3",
      "display_name": "Python 3"
    },
    "language_info": {
      "name": "python"
    }
  },
  "cells": [
    {
      "cell_type": "code",
      "metadata": {
        "id": "RlKkI9IGWuyd",
        "colab": {
          "base_uri": "https://localhost:8080/"
        },
        "outputId": "60b4e6cf-3e24-4c3b-9b14-282360b3f7d9"
      },
      "source": [
        "import pandas as pd\n",
        "import os\n",
        "from google.colab import drive\n",
        "import shutil\n",
        "from sklearn.model_selection import train_test_split\n",
        "import reorganize_extracted_data_api\n",
        "import importlib\n",
        "from reorganize_extracted_data_api import *\n",
        "importlib.reload(reorganize_extracted_data_api)"
      ],
      "execution_count": 15,
      "outputs": [
        {
          "output_type": "execute_result",
          "data": {
            "text/plain": [
              "<module 'reorganize_extracted_data_api' from '/content/reorganize_extracted_data_api.py'>"
            ]
          },
          "metadata": {
            "tags": []
          },
          "execution_count": 15
        }
      ]
    },
    {
      "cell_type": "markdown",
      "metadata": {
        "id": "v4hQWFNp1QKf"
      },
      "source": [
        "# This code was used to reorganize the data in our Google Drive"
      ]
    },
    {
      "cell_type": "markdown",
      "metadata": {
        "id": "k3Nmz6ssWyeq"
      },
      "source": [
        "# Original Organization Format\n",
        "\n",
        "After extracting all the audio files, they were in the following format:\n",
        "\n",
        "Extracted_data (root)\n",
        "\n",
        "├── 20200505 (dir giving date)\n",
        "\n",
        "│   ├── 0Ha52POVIxTKEPqI1eGpIoMHUd52 (dir giving ID)\n",
        "\n",
        "│   │   └── breathing-deep.wav (audio file)\n",
        "\n",
        "│   │   └── breathing-shallow.wav (audio file)\n",
        "\n",
        "│   │   └── cough-heavy.wav (audio file)\n",
        "\n",
        "│   │   └── *********.wav etc. (audio files)\n",
        "\n",
        "│   ├── 0HIgO2EhOOW1msCbEw1kC8Qsx6D3 (dir giving ID)\n",
        "\n",
        "│   │   └── cough-heavy.wav (audio file)\n",
        "\n",
        "│   │   └── *********.wav etc. (audio files)\n",
        "\n",
        "│   ├── ************************* etc. (dir giving ID)\n",
        "\n",
        "├── 20200525 (dir)\n",
        "\n",
        "│   ├── 0HIgO2EhOOW1msCbEw1kC8Qsx6D3 (dir giving ID)\n",
        "\n",
        "│   │   └── cough-heavy.wav (audio file)\n",
        "\n",
        "│   │   └── *********.wav etc. (audio files)\n",
        "\n",
        "│   ├── ************************* etc. (dir giving ID)\n",
        "\n",
        "└── ######## etc. (dir)"
      ]
    },
    {
      "cell_type": "markdown",
      "metadata": {
        "id": "0PB4r_7j1fjX"
      },
      "source": [
        "# New Organization Format\n",
        "\n",
        "This code then reorganizes our files into separate folders, one for each of the sounds. The only contents of these folders are the audio files which have been edited to include the ID in their names\n",
        "\n",
        "Extracted_data (root)\n",
        "\n",
        "├──  breathing-deep (dir giving type of audio)\n",
        "\n",
        "│   ├── 0Ha52POVIxTKEPqI1eGpIoMHUd52_breathing-deep.wav (audio file w/ID)\n",
        "\n",
        "│   ├── 0HIgO2EhOOW1msCbEw1kC8Qsx6D3_breathing-deep.wav (audio file w/ID)\n",
        "\n",
        "│   │   └── *********_******.wav etc. (audio files w/IDs)\n",
        "\n",
        "├──  breathing-shallow (dir giving type of audio)\n",
        "\n",
        "│   ├── 0Ha52POVIxTKEPqI1eGpIoMHUd52_breathing-shallow.wav (audio file w/ID)\n",
        "\n",
        "│   ├── 0HIgO2EhOOW1msCbEw1kC8Qsx6D3_breathing-shallow.wav (audio file w/ID)\n",
        "\n",
        "│   │   └── *********_******.wav etc. (audio files w/IDs)\n",
        "\n",
        "├──  ***** etc. (dir giving type of audio)\n",
        "\n",
        "│   │   └── *********_******.wav etc. (audio files w/IDs)\n"
      ]
    },
    {
      "cell_type": "code",
      "metadata": {
        "id": "c-AVJoEhWYW8",
        "colab": {
          "base_uri": "https://localhost:8080/"
        },
        "outputId": "058f7bd7-2cbb-4fb2-cd4b-f0435ec63447"
      },
      "source": [
        "# Mount Google Drive\n",
        "drive.mount('/content/gdrive') # Run and choose your school google drive and copy and paste the key and press enter"
      ],
      "execution_count": 16,
      "outputs": [
        {
          "output_type": "stream",
          "text": [
            "Drive already mounted at /content/gdrive; to attempt to forcibly remount, call drive.mount(\"/content/gdrive\", force_remount=True).\n"
          ],
          "name": "stdout"
        }
      ]
    },
    {
      "cell_type": "code",
      "metadata": {
        "id": "nrx8TuI56iPj"
      },
      "source": [
        "# Set path you want to clean up and path to move to\n",
        "# path = '/content/gdrive/MyDrive/dumbstuff'\n",
        "# new_path = '/content/gdrive/MyDrive/dumbstuff2'\n",
        "path = '/content/gdrive/MyDrive/DSCI400/Coswara-Data-master/Coswara-Data-master/Extracted_data'\n",
        "new_path = '/content/gdrive/MyDrive/DSCI400/Reorganized Audio'"
      ],
      "execution_count": 17,
      "outputs": []
    },
    {
      "cell_type": "code",
      "metadata": {
        "id": "aXFyPHgWXeti"
      },
      "source": [
        "# Create new directory\n",
        "make_new_dir(new_path)\n",
        "\n",
        "# Set working directory\n",
        "os.chdir(path) "
      ],
      "execution_count": 18,
      "outputs": []
    },
    {
      "cell_type": "code",
      "metadata": {
        "id": "A7HFstoKkB1n"
      },
      "source": [
        "# The first function call will simply remove the first layer of directories\n",
        "#   beneath the root folder as defined in the path variable. It does not edit\n",
        "#   any of the names or contents of the subfolders.\n",
        "cleaner(path, new_path, 0)\n",
        "\n",
        "# The second function call will rename the files in each remaining subfolder\n",
        "#   in the root folder to include the name of the subfolder, followed by an\n",
        "#   underscore, followed by the original name of the file. It then sorts the\n",
        "#   renamed file into a folder which only contains files of its corresponding\n",
        "#   sound. The \"1\" is used as a flag to represent this case.\n",
        "cleaner(new_path, new_path, 1)"
      ],
      "execution_count": null,
      "outputs": []
    },
    {
      "cell_type": "code",
      "metadata": {
        "id": "_OEdAqQUU6iN"
      },
      "source": [
        "desired_directories = ['breathing-deep', 'breathing-shallow', 'cough-heavy', 'cough-shallow', 'counting-fast', 'counting-normal', 'vowel-a', 'vowel-e', 'vowel-o', 'metadata']\n",
        "#txt_directories = ['txt1', 'txt2']\n",
        "\n",
        "os.chdir(new_path) \n",
        "org_into_sounds(new_path, desired_directories)"
      ],
      "execution_count": null,
      "outputs": []
    }
  ]
}