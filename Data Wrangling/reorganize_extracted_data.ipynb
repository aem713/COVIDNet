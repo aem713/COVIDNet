{
  "nbformat": 4,
  "nbformat_minor": 0,
  "metadata": {
    "colab": {
      "name": "reorganize_extracted_data",
      "provenance": []
    },
    "kernelspec": {
      "name": "python3",
      "display_name": "Python 3"
    },
    "language_info": {
      "name": "python"
    }
  },
  "cells": [
    {
      "cell_type": "code",
      "metadata": {
        "id": "RlKkI9IGWuyd"
      },
      "source": [
        "import pandas as pd\n",
        "import os\n",
        "from google.colab import drive\n",
        "import shutil\n",
        "from sklearn.model_selection import train_test_split"
      ],
      "execution_count": 74,
      "outputs": []
    },
    {
      "cell_type": "markdown",
      "metadata": {
        "id": "k3Nmz6ssWyeq"
      },
      "source": [
        "This code was used to reorganize the data in our Google Drive"
      ]
    },
    {
      "cell_type": "code",
      "metadata": {
        "id": "c-AVJoEhWYW8",
        "colab": {
          "base_uri": "https://localhost:8080/"
        },
        "outputId": "e6e63aeb-3647-49fa-9931-1ab012f94e8d"
      },
      "source": [
        "# Mount Google Drive\n",
        "drive.mount('/content/gdrive') # Run and choose your school google drive and copy and paste the key and press enter"
      ],
      "execution_count": 90,
      "outputs": [
        {
          "output_type": "stream",
          "text": [
            "Drive already mounted at /content/gdrive; to attempt to forcibly remount, call drive.mount(\"/content/gdrive\", force_remount=True).\n"
          ],
          "name": "stdout"
        }
      ]
    },
    {
      "cell_type": "code",
      "metadata": {
        "id": "aXFyPHgWXeti"
      },
      "source": [
        "# Set working directory\n",
        "#os.chdir('/content/gdrive/MyDrive/DSCI400/Coswara-Data-master/Coswara-Data-master/Extracted_data') \n",
        "os.chdir('/content/gdrive/MyDrive/dumbstuff') "
      ],
      "execution_count": 98,
      "outputs": []
    },
    {
      "cell_type": "code",
      "metadata": {
        "id": "mNmWrPTjhLx1"
      },
      "source": [
        "def subfolder_extractor(source, target, operation):\n",
        "  root_src_dir = os.path.join('.', source)\n",
        "  root_target_dir = os.path.join('.',target)\n",
        "\n",
        "  for src_dir, dirs, files in os.walk(root_src_dir):\n",
        "      dst_dir = src_dir.replace(root_src_dir, root_target_dir)\n",
        "      if not os.path.exists(dst_dir):\n",
        "          os.mkdir(dst_dir)\n",
        "      for file_ in files:\n",
        "          src_file = os.path.join(src_dir, file_)\n",
        "          dst_file = os.path.join(dst_dir, file_)\n",
        "          if os.path.exists(dst_file):\n",
        "              os.remove(dst_file)\n",
        "          if operation is 'copy':\n",
        "              shutil.copy(src_file, dst_dir)\n",
        "          elif operation is 'move':\n",
        "              shutil.move(src_file, dst_dir)\n",
        "\n",
        "def cleaner(data_dir):\n",
        "  directories = [d for d in os.listdir(data_dir) \n",
        "                 if os.path.isdir(os.path.join(data_dir, d))]\n",
        "\n",
        "  dir_paths = list()\n",
        "  for i in directories:\n",
        "    dir_paths.append(os.path.join(data_dir, i))\n",
        "  \n",
        "  operation = 'move'\n",
        "  \n",
        "  for i in dir_paths:\n",
        "    subfolder_extractor(i, data_dir, operation)\n",
        "\n",
        "  for i in directories:\n",
        "    shutil.rmtree(i)"
      ],
      "execution_count": 97,
      "outputs": []
    },
    {
      "cell_type": "code",
      "metadata": {
        "id": "A7HFstoKkB1n"
      },
      "source": [
        "source = '/content/gdrive/MyDrive/dumbstuff/layer1a'\n",
        "target = '/content/gdrive/MyDrive/dumbstuff'\n",
        "path = '/content/gdrive/MyDrive/dumbstuff'\n",
        "# mover(source, target, 'move')\n",
        "cleaner(path)"
      ],
      "execution_count": 99,
      "outputs": []
    },
    {
      "cell_type": "code",
      "metadata": {
        "id": "D2ZT7uZ-r9nQ"
      },
      "source": [
        "\n",
        "directories = ['layer1b', 'layer1c']\n",
        "\n"
      ],
      "execution_count": 96,
      "outputs": []
    },
    {
      "cell_type": "code",
      "metadata": {
        "id": "hNe_4nuqYw67"
      },
      "source": [
        "# Fuction to reorganize our data\n",
        "def reader(data_dir):\n",
        "\n",
        "  # for entry in os.scandir(os.path.join(self.path, os.path.join(dataset_type, 'pos'))):\n",
        "  #           if entry.is_file():\n",
        "  #               positive_paths.append(entry.path) # Make a list of all the paths containing positive coughing audio\n",
        "\n",
        "  # Get all subdirectories of data_dir. Each represents a label.\n",
        "  directories = [d for d in os.listdir(data_dir) \n",
        "                 if os.path.isdir(os.path.join(data_dir, d))]\n",
        "   \n",
        "  return directories\n",
        "  for d in directories:\n",
        "    label_dir = os.path.join(data_dir, d)\n",
        "    \n",
        "    file_names = [os.path.join(label_dir, f) \n",
        "                  for f in os.listdir(label_dir) \n",
        "                  if f.endswith(\".ppm\")]"
      ],
      "execution_count": null,
      "outputs": []
    },
    {
      "cell_type": "code",
      "metadata": {
        "id": "GABB5vjxZYgE",
        "colab": {
          "base_uri": "https://localhost:8080/"
        },
        "outputId": "51d2de5a-8248-4578-e6d5-a4c3c4c266a8"
      },
      "source": [
        "# path = '/content/gdrive/MyDrive/DSCI400/Coswara-Data-master/Coswara-Data-master/Extracted_data'\n",
        "path = '/content/gdrive/MyDrive/dumbstuff'\n",
        "print(reader(path))\n"
      ],
      "execution_count": 54,
      "outputs": [
        {
          "output_type": "stream",
          "text": [
            "['layer1a', 'layer1b', 'layer1c']\n"
          ],
          "name": "stdout"
        }
      ]
    }
  ]
}