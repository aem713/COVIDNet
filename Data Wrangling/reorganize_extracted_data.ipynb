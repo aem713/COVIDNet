{
  "nbformat": 4,
  "nbformat_minor": 0,
  "metadata": {
    "colab": {
      "name": "reorganize_extracted_data",
      "provenance": [],
      "collapsed_sections": [],
      "toc_visible": true
    },
    "kernelspec": {
      "name": "python3",
      "display_name": "Python 3"
    },
    "language_info": {
      "name": "python"
    }
  },
  "cells": [
    {
      "cell_type": "code",
      "metadata": {
        "id": "RlKkI9IGWuyd"
      },
      "source": [
        "import pandas as pd\n",
        "import os\n",
        "from google.colab import drive\n",
        "import shutil\n",
        "from sklearn.model_selection import train_test_split\n",
        "import reorganize_extracted_data_api\n",
        "# import importlib\n",
        "from reorganize_extracted_data_api import *\n",
        "# importlib.reload(reorganize_extracted_data_api)"
      ],
      "execution_count": 444,
      "outputs": []
    },
    {
      "cell_type": "markdown",
      "metadata": {
        "id": "v4hQWFNp1QKf"
      },
      "source": [
        "# This code was used to reorganize the data in our Google Drive"
      ]
    },
    {
      "cell_type": "markdown",
      "metadata": {
        "id": "k3Nmz6ssWyeq"
      },
      "source": [
        "# Original Organization Format\n",
        "\n",
        "After extracting all the audio files, they were in the following format:\n",
        "\n",
        "Extracted_data (root)\n",
        "\n",
        "├── 20200505 (dir giving date)\n",
        "\n",
        "│   ├── 0Ha52POVIxTKEPqI1eGpIoMHUd52 (dir giving ID)\n",
        "\n",
        "│   │   └── breathing-deep.wav (audio file)\n",
        "\n",
        "│   │   └── breathing-shallow.wav (audio file)\n",
        "\n",
        "│   │   └── cough-heavy.wav (audio file)\n",
        "\n",
        "│   │   └── *********.wav etc. (audio files)\n",
        "\n",
        "│   ├── 0HIgO2EhOOW1msCbEw1kC8Qsx6D3 (dir giving ID)\n",
        "\n",
        "│   │   └── cough-heavy.wav (audio file)\n",
        "\n",
        "│   │   └── *********.wav etc. (audio files)\n",
        "\n",
        "│   ├── ************************* etc. (dir giving ID)\n",
        "\n",
        "├── 20200525 (dir)\n",
        "\n",
        "│   ├── 0HIgO2EhOOW1msCbEw1kC8Qsx6D3 (dir giving ID)\n",
        "\n",
        "│   │   └── cough-heavy.wav (audio file)\n",
        "\n",
        "│   │   └── *********.wav etc. (audio files)\n",
        "\n",
        "│   ├── ************************* etc. (dir giving ID)\n",
        "\n",
        "└── ######## etc. (dir)"
      ]
    },
    {
      "cell_type": "markdown",
      "metadata": {
        "id": "0PB4r_7j1fjX"
      },
      "source": [
        "# New Organization Format\n",
        "\n",
        "This code then reorganizes our files into separate folders, one for each of the sounds. The only contents of these folders are the audio files which have been edited to include the ID in their names\n",
        "\n",
        "Extracted_data (root)\n",
        "\n",
        "├──  breathing-deep (dir giving type of audio)\n",
        "\n",
        "│   ├── 0Ha52POVIxTKEPqI1eGpIoMHUd52_breathing-deep.wav (audio file w/ID)\n",
        "\n",
        "│   ├── 0HIgO2EhOOW1msCbEw1kC8Qsx6D3_breathing-deep.wav (audio file w/ID)\n",
        "\n",
        "│   │   └── *********_******.wav etc. (audio files w/IDs)\n",
        "\n",
        "├──  breathing-shallow (dir giving type of audio)\n",
        "\n",
        "│   ├── 0Ha52POVIxTKEPqI1eGpIoMHUd52_breathing-shallow.wav (audio file w/ID)\n",
        "\n",
        "│   ├── 0HIgO2EhOOW1msCbEw1kC8Qsx6D3_breathing-shallow.wav (audio file w/ID)\n",
        "\n",
        "│   │   └── *********_******.wav etc. (audio files w/IDs)\n",
        "\n",
        "├──  ***** etc. (dir giving type of audio)\n",
        "\n",
        "│   │   └── *********_******.wav etc. (audio files w/IDs)\n"
      ]
    },
    {
      "cell_type": "code",
      "metadata": {
        "id": "c-AVJoEhWYW8",
        "colab": {
          "base_uri": "https://localhost:8080/"
        },
        "outputId": "f4b853cb-2bc0-439c-e7f5-30bd5f03a225"
      },
      "source": [
        "# Mount Google Drive\n",
        "drive.mount(\"/content/gdrive\", force_remount=True) # Run and choose your school google drive and copy and paste the key and press enter"
      ],
      "execution_count": 445,
      "outputs": [
        {
          "output_type": "stream",
          "text": [
            "Mounted at /content/gdrive\n"
          ],
          "name": "stdout"
        }
      ]
    },
    {
      "cell_type": "code",
      "metadata": {
        "id": "nrx8TuI56iPj"
      },
      "source": [
        "# Set path you want to clean up and path to move to\n",
        "# path = '/content/gdrive/MyDrive/dumbstuff'\n",
        "# new_path = '/content/gdrive/MyDrive/dumbstuff2'\n",
        "# path = '/content/gdrive/MyDrive/Extracted_data_3'\n",
        "# new_path = '/content/gdrive/MyDrive/Extracted_data_4'\n",
        "# path = '/content/gdrive/MyDrive/abc1'\n",
        "# new_path = '/content/gdrive/MyDrive/abc2'\n",
        "path = '/content/gdrive/MyDrive/DSCI400/Coswara-Data-master/Coswara-Data-master/Extracted_data'\n",
        "new_path = '/content/gdrive/MyDrive/DSCI400/Reorganized Audio 2'"
      ],
      "execution_count": 446,
      "outputs": []
    },
    {
      "cell_type": "code",
      "metadata": {
        "id": "aXFyPHgWXeti"
      },
      "source": [
        "# Create new directory\n",
        "make_new_dir(new_path)\n",
        "\n",
        "# Set working directory\n",
        "os.chdir(path) \n",
        "\n",
        "desired_directories = ['breathing-deep', 'breathing-shallow', 'cough-heavy', 'cough-shallow', 'counting-fast', 'counting-normal', 'vowel-a', 'vowel-e', 'vowel-o', 'metadata']\n",
        "# desired_directories = ['txt1', 'txt2']"
      ],
      "execution_count": 447,
      "outputs": []
    },
    {
      "cell_type": "code",
      "metadata": {
        "id": "RG8tkxePWN_7"
      },
      "source": [
        "import pandas as pd\n",
        "import os\n",
        "from google.colab import drive\n",
        "import shutil\n",
        "from sklearn.model_selection import train_test_split\n",
        "from os import listdir\n",
        "from os.path import isfile, join\n",
        "\n",
        "def make_new_dir(new_path):\n",
        "  if not os.path.exists(new_path):\n",
        "      os.makedirs(new_path)\n",
        "  else:\n",
        "      shutil.rmtree(new_path)           \n",
        "      os.makedirs(new_path)\n",
        "\n",
        "def subfolder_extractor(source, target, operation, flag):\n",
        "  \"\"\"\n",
        "    Performs extraction of subfolders within a specified parent folder.\n",
        "    It can either simply remove the first layer of subfolders or can \n",
        "    do so in addition to renaming the files with the names of their respective\n",
        "    parent folders.\n",
        "\n",
        "    inputs:\n",
        "        - source: the subfolder one is attempting to remove\n",
        "        - target: the target folder to extract the desired files and/or\n",
        "                  directories to\n",
        "        - operation: move or copy the files\n",
        "        - flag: 0 represents to simply remove the first layer of subfolders\n",
        "                1 represents to remove the first layer of subfolders as well as\n",
        "                  to rename the files to include the names of their parent\n",
        "                  folders\n",
        "\n",
        "    Returns: N/A\n",
        "    \"\"\"\n",
        "  # Define root and target directories \n",
        "  root_src_dir = os.path.join('.', source)\n",
        "  root_target_dir = os.path.join('.',target)\n",
        "\n",
        "  if (flag):\n",
        "    depth = 1\n",
        "  else:\n",
        "    depth = 2\n",
        "\n",
        "  # print('root_src_dir: ' + str(root_src_dir))\n",
        "  # print('root_target_dir: ' + str(root_target_dir))\n",
        "  # print('-------------------------')\n",
        "  # Walk across all files and directories in our root directory\n",
        "\n",
        "  for src_dir, dirs, files in os.walk(root_src_dir):\n",
        "    if src_dir[len(root_src_dir):].count(os.sep) < depth:\n",
        "  \n",
        "  #for src_dir, dirs, files in os.walk(root_src_dir):\n",
        "      # print('src_dir: ' + src_dir)\n",
        "      # print('dirs: ' + str(dirs))\n",
        "      # print('files: ' + str(files))\n",
        "      # print('-----------------------')\n",
        "      dst_dir = src_dir.replace(root_src_dir, root_target_dir)\n",
        "      # print('dst_dir: ' + dst_dir)\n",
        "      # print('root_src_dir: ' + root_src_dir)\n",
        "      # print('root_target_dir: ' + root_target_dir)\n",
        "      # print('=======================')\n",
        "    # Create the necessary destination directories to move the copies of the\n",
        "    #   contents of the subfolders one is trying to remove.\n",
        "      if not os.path.exists(dst_dir):\n",
        "        os.mkdir(dst_dir)\n",
        "\n",
        "      for file_ in files:\n",
        "      # If flag == 1, then rename files and remove their parent folders\n",
        "        if (flag):\n",
        "          ending = os.path.basename(os.path.normpath(root_src_dir))\n",
        "          os.replace(os.path.join(root_src_dir, file_), os.path.join(dst_dir, ending + '_' + file_))\n",
        "\n",
        "      # If flag == 0, then simply remove the subfolders of the source directory\n",
        "      #   and move the files contained in the subfolders to the src directory \n",
        "        else:  \n",
        "          src_file = os.path.join(src_dir, file_)\n",
        "          dst_file = os.path.join(dst_dir, file_)\n",
        "          if os.path.exists(dst_file):\n",
        "            os.remove(dst_file)\n",
        "\n",
        "        # Either copy or move the remaining files in the original subfolders\n",
        "          if operation is 'copy':\n",
        "            shutil.copy(src_file, dst_dir)\n",
        "          elif operation is 'move':\n",
        "            shutil.move(src_file, dst_dir)\n",
        "\n",
        "def cleaner(data_dir, new_path, desired_directories, flag):\n",
        "  \"\"\"\n",
        "    Calls subfolder_extractor function and cleans up any remaining empty\n",
        "    subfolders within the source folder given by data_dir\n",
        "\n",
        "    inputs:\n",
        "        - data_dir: the source folder one is attempting to clean\n",
        "        - new_path: the new destination directory to move to\n",
        "        - flag: 0 represents to simply remove the first layer of subfolders\n",
        "                1 represents to remove the first layer of subfolders as well as\n",
        "                  to rename the files to include the names of their parent\n",
        "                  folders\n",
        "\n",
        "    Returns: N/A\n",
        "    \"\"\"\n",
        "  # List comprehension to compile all the directories within data_dir\n",
        "  directories = [d for d in os.listdir(data_dir) \n",
        "                 if os.path.isdir(os.path.join(data_dir, d))]\n",
        "\n",
        "  # Compile a list containing the full filepaths of the subdirectories of data_dir\n",
        "  dir_paths = list()\n",
        "  for i in directories:\n",
        "    dir_paths.append(os.path.join(data_dir, i))\n",
        "  \n",
        "  if (flag):\n",
        "    operation = 'move'\n",
        "  else:\n",
        "    operation = 'copy'\n",
        "    new_dirs = [d for d in os.listdir(new_path) \n",
        "                 if os.path.isdir(os.path.join(new_path, d))]\n",
        "    for i in desired_directories:\n",
        "      if i in new_dirs:\n",
        "        shutil.rmtree(os.path.join(new_path, i))\n",
        "    \n",
        "  # Call the subfolder_extractor function for all subfolders of data_dir\n",
        "  for i in dir_paths:\n",
        "    subfolder_extractor(i, new_path, operation, flag)\n",
        "\n",
        "  # Remove all the original subfolders since we have moved their contents into\n",
        "  #   the folder defined by data_dir\n",
        "  if (flag):\n",
        "    for i in directories:\n",
        "      shutil.rmtree(os.path.join(new_path, i))\n",
        "\n",
        "def org_into_sounds(data_dir, desired_directories):\n",
        "  \"\"\"\n",
        "    Organizes the files in the source directory into their appropriate\n",
        "      subdirectories within the source directory\n",
        "\n",
        "    inputs:\n",
        "        - data_dir: the source folder one is attempting to organize\n",
        "        - desired_directories: a list of desired directories that the user\n",
        "                               intends to sort all files in data_dir into\n",
        "\n",
        "    Returns: N/A\n",
        "    \"\"\"\n",
        "  # Creates directories in data_dir as listed in desired_directories\n",
        "  for d in desired_directories:\n",
        "    make_new_dir(os.path.join(data_dir, d))\n",
        "\n",
        "  # Copies files from data_dir into their appropriate folders\n",
        "  only_files = [f for f in listdir(data_dir) if isfile(join(data_dir, f))]\n",
        "  for file_ in only_files:\n",
        "    for i in desired_directories:\n",
        "      if (i in file_):\n",
        "        shutil.copy(file_, os.path.join(i, file_))\n",
        "  \n",
        "  # Removes all files from data_dir since all files have been copied into\n",
        "  #   their appropriate folders\n",
        "\n",
        "  all_files = []\n",
        "  for (dirpath, dirnames, filenames) in os.walk(data_dir):\n",
        "    all_files.extend(filenames)\n",
        "    break\n",
        "  for i in all_files:\n",
        "    os.remove(i)"
      ],
      "execution_count": 448,
      "outputs": []
    },
    {
      "cell_type": "code",
      "metadata": {
        "id": "A7HFstoKkB1n"
      },
      "source": [
        "# The first function call will simply remove the first layer of directories\n",
        "#   beneath the root folder as defined in the path variable. It does not edit\n",
        "#   any of the names or contents of the subfolders.\n",
        "cleaner(path, new_path, desired_directories, 0)"
      ],
      "execution_count": null,
      "outputs": []
    },
    {
      "cell_type": "code",
      "metadata": {
        "id": "EDNO4Ddg2PnE"
      },
      "source": [
        "# The second function call will rename the files in each remaining subfolder\n",
        "#   in the root folder to include the name of the subfolder, followed by an\n",
        "#   underscore, followed by the original name of the file. It then sorts the\n",
        "#   renamed file into a folder which only contains files of its corresponding\n",
        "#   sound. The \"1\" is used as a flag to represent this case.\n",
        "cleaner(new_path, new_path, desired_directories, 1)"
      ],
      "execution_count": null,
      "outputs": []
    },
    {
      "cell_type": "code",
      "metadata": {
        "id": "_OEdAqQUU6iN"
      },
      "source": [
        "os.chdir(new_path) \n",
        "org_into_sounds(new_path, desired_directories)"
      ],
      "execution_count": null,
      "outputs": []
    }
  ]
}