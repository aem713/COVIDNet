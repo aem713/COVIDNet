{
  "nbformat": 4,
  "nbformat_minor": 0,
  "metadata": {
    "colab": {
      "name": "audio_wrangling.ipynb",
      "provenance": []
    },
    "kernelspec": {
      "name": "python3",
      "display_name": "Python 3"
    },
    "language_info": {
      "name": "python"
    }
  },
  "cells": [
    {
      "cell_type": "code",
      "metadata": {
        "id": "3GK4SAgZYbBg"
      },
      "source": [
        "import pandas as pd\n",
        "import os\n",
        "import shutil\n",
        "from google.colab import drive\n",
        "from sklearn.model_selection import train_test_split\n",
        "import subprocess\n",
        "import numpy as np"
      ],
      "execution_count": 1,
      "outputs": []
    },
    {
      "cell_type": "code",
      "metadata": {
        "id": "DbSsz0EJYjFZ",
        "colab": {
          "base_uri": "https://localhost:8080/"
        },
        "outputId": "4cf8d2cf-d394-4729-9595-ed67cd725897"
      },
      "source": [
        "# Mount Google Drive\n",
        "drive.mount('/content/gdrive') # Run and choose your school google drive and copy and paste the key and press enter"
      ],
      "execution_count": 2,
      "outputs": [
        {
          "output_type": "stream",
          "text": [
            "Drive already mounted at /content/gdrive; to attempt to forcibly remount, call drive.mount(\"/content/gdrive\", force_remount=True).\n"
          ],
          "name": "stdout"
        }
      ]
    },
    {
      "cell_type": "code",
      "metadata": {
        "id": "onWk-M-brnd0"
      },
      "source": [
        "# Set working directory\n",
        "os.chdir('/content/gdrive/MyDrive/DSCI400/Data Wrangling') "
      ],
      "execution_count": 3,
      "outputs": []
    },
    {
      "cell_type": "code",
      "metadata": {
        "id": "_eF-SRGqrqnu"
      },
      "source": [
        "# Import apis\n",
        "import audio_wrangling_api as wrag_api"
      ],
      "execution_count": 5,
      "outputs": []
    },
    {
      "cell_type": "code",
      "metadata": {
        "id": "ppQMIutrZKBo"
      },
      "source": [
        "# Load coswara demographic datasets\n",
        "coswara = pd.read_csv('/content/gdrive/MyDrive/DSCI400/Coswara-Data-master/Coswara-Data-master/combined_data.csv', index_col = 'id')\n",
        "coughvid = pd.read_csv('/content/gdrive/MyDrive/DSCI400/New Audio/metadata_compiled.csv',index_col = 'uuid')"
      ],
      "execution_count": 6,
      "outputs": []
    },
    {
      "cell_type": "code",
      "metadata": {
        "id": "7dk35pekZQbi"
      },
      "source": [
        "# Add covid label and split into training, validation, test set\n",
        "coswara = wrag_api.status_regroup(coswara)\n",
        "coswara_pos, coswara_neg = wrag_api.pos_neg_split(\"coswara\", coswara)\n",
        "coswara_X, coswara_id = wrag_api.train_test_dmg(coswara_pos, coswara_neg, 0.2, 0.2, 42)\n",
        "\n",
        "coughvid_pos, coughvid_neg = wrag_api.pos_neg_split(\"coughvid\", coughvid)\n",
        "coughvid_X, coughvid_id = wrag_api.train_test_dmg(coughvid_pos, coughvid_neg, 0.2, 0.2, 42)"
      ],
      "execution_count": 7,
      "outputs": []
    },
    {
      "cell_type": "code",
      "metadata": {
        "id": "xXoOAUU2lWjU"
      },
      "source": [
        "# Set up paths for audio storage\n",
        "webm_src = '/content/gdrive/MyDrive/DSCI400/New Audio'\n",
        "coswara_src = '/content/gdrive/MyDrive/DSCI400/Reorganized Audio'\n",
        "coughvid_src = '/content/gdrive/MyDrive/DSCI400/New Audio wav/'\n",
        "target = '/content/gdrive/MyDrive/DSCI400/Regroup Audio New'"
      ],
      "execution_count": 8,
      "outputs": []
    },
    {
      "cell_type": "code",
      "metadata": {
        "id": "0qkE-ek6aBfS",
        "colab": {
          "base_uri": "https://localhost:8080/"
        },
        "outputId": "bfd95821-6308-40ab-843a-90095e79532c"
      },
      "source": [
        "# Convert coughvid audios from webm to wav\n",
        "wrag_api.convert_webms(webm_src, coughvid_src)"
      ],
      "execution_count": 9,
      "outputs": [
        {
          "output_type": "stream",
          "text": [
            "Data already exist\n"
          ],
          "name": "stdout"
        }
      ]
    },
    {
      "cell_type": "code",
      "metadata": {
        "id": "bddCIaXRZ-5V",
        "colab": {
          "base_uri": "https://localhost:8080/"
        },
        "outputId": "f8f805d7-18b0-4c89-94e0-7e92997dc22f"
      },
      "source": [
        "# Reorganize audio files based on training, validation, test set and covid labels\n",
        "wrag_api.train_test_org(\"coswara\", coswara_src, target, coswara_id)\n",
        "wrag_api.train_test_org(\"coughvid\", coughvid_src, target, coughvid_id)"
      ],
      "execution_count": 10,
      "outputs": [
        {
          "output_type": "stream",
          "text": [
            "Data already exist\n",
            "Data already exist\n"
          ],
          "name": "stdout"
        }
      ]
    },
    {
      "cell_type": "code",
      "metadata": {
        "id": "KYSlUIbRbL8h",
        "colab": {
          "base_uri": "https://localhost:8080/"
        },
        "outputId": "e8d3e745-25fc-4ba7-c6a5-a205b836152d"
      },
      "source": [
        "# Combine shallow and heavy cough in the coswara dataset\n",
        "coswara_coughs = ['cough-shallow','cough-heavy']\n",
        "wrag_api.combine_audios(target,coswara_coughs,'cough-coswara')"
      ],
      "execution_count": 12,
      "outputs": [
        {
          "output_type": "stream",
          "text": [
            "Data already exist\n"
          ],
          "name": "stdout"
        }
      ]
    },
    {
      "cell_type": "code",
      "metadata": {
        "id": "abbFzqESsh_A"
      },
      "source": [
        ""
      ],
      "execution_count": null,
      "outputs": []
    }
  ]
}