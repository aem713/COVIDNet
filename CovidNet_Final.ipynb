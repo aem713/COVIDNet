{
  "nbformat": 4,
  "nbformat_minor": 0,
  "metadata": {
    "colab": {
      "name": "CovidNet_Final",
      "provenance": [],
      "collapsed_sections": [],
      "include_colab_link": true
    },
    "kernelspec": {
      "name": "python3",
      "display_name": "Python 3"
    },
    "accelerator": "GPU"
  },
  "cells": [
    {
      "cell_type": "markdown",
      "metadata": {
        "id": "view-in-github",
        "colab_type": "text"
      },
      "source": [
        "<a href=\"https://colab.research.google.com/github/amotu/COVIDNet/blob/main/CovidNet_Final.ipynb\" target=\"_parent\"><img src=\"https://colab.research.google.com/assets/colab-badge.svg\" alt=\"Open In Colab\"/></a>"
      ]
    },
    {
      "cell_type": "code",
      "metadata": {
        "id": "k8w9xpxkLNHu"
      },
      "source": [
        "%pip install surfboard\n",
        "import surfboard\n",
        "from surfboard.sound import Waveform\n",
        "from surfboard.feature_extraction import extract_features\n",
        "import pandas\n",
        "import numpy as np\n",
        "import matplotlib.pyplot as plt\n",
        "import os\n",
        "from google.colab import drive\n",
        "import librosa\n",
        "import librosa.display\n",
        "import IPython.display as ipd\n",
        "import tensorflow as tf\n",
        "from tqdm import tqdm\n",
        "import sklearn\n",
        "from sklearn.metrics import classification_report, confusion_matrix\n",
        "%tensorflow_version 2.x"
      ],
      "execution_count": null,
      "outputs": []
    },
    {
      "cell_type": "code",
      "metadata": {
        "id": "q4Jt7qIUem9y",
        "colab": {
          "base_uri": "https://localhost:8080/"
        },
        "outputId": "f050a5c6-b149-42ee-b25a-88646ce0b796"
      },
      "source": [
        "drive.mount('/content/gdrive', force_remount=True)"
      ],
      "execution_count": 2,
      "outputs": [
        {
          "output_type": "stream",
          "text": [
            "Mounted at /content/gdrive\n"
          ],
          "name": "stdout"
        }
      ]
    },
    {
      "cell_type": "code",
      "metadata": {
        "id": "UikJvWyEV8Jt"
      },
      "source": [
        "# Set file/audio locations\n",
        "os.chdir('/content/gdrive/MyDrive/DSCI400')\n",
        "new_audio_path = '/content/gdrive/MyDrive/DSCI400/Regroup Audio New/coughvid'\n",
        "coughnet_audio_path = '/content/gdrive/MyDrive/DSCI400/Coughnet Audio'\n",
        "coswara_audio_path = '/content/gdrive/MyDrive/DSCI400/Regroup Audio New/cough-coswara'\n",
        "audio_path = new_audio_path"
      ],
      "execution_count": 3,
      "outputs": []
    },
    {
      "cell_type": "code",
      "metadata": {
        "id": "JowYSFLbBmOn"
      },
      "source": [
        "from utils.Commented.DataGenerator import DataGenerator, Data_Viz, Get_matrix_inputs\n",
        "from utils.Commented.SurfboardFeatures import GenerateVectors, Reduce_Dim, Get_feature_vectors\n",
        "from utils.Commented.Modeling import build_model2, build_model, build_cnn_train, build_train\n",
        "from utils.Commented.Plotter import loss_plot, accuracy_plot, plot_cm\n",
        "from utils.Commented.Metrics import round_using_t, get_best_threshold, get_predict, get_sen_spec\n",
        "from utils.Commented.Transfer_Learning import expand_dim, expand_dim_all, make_transfer_model\n",
        "from utils.Commented import Parameters"
      ],
      "execution_count": 13,
      "outputs": []
    },
    {
      "cell_type": "markdown",
      "metadata": {
        "id": "XknagYVMMVAm"
      },
      "source": [
        "# Quick and Easy"
      ]
    },
    {
      "cell_type": "code",
      "metadata": {
        "id": "2sU7iUExGvbX"
      },
      "source": [
        "from utils.Commented.DenseNet_Model import Transfer_Model\n",
        "from utils.Commented.CNN_Model import CNN_Model\n",
        "from utils.Commented.CNN_MLP_Model import CNN_MLP_Model"
      ],
      "execution_count": 12,
      "outputs": []
    },
    {
      "cell_type": "code",
      "metadata": {
        "id": "6i61h_X3G1AR"
      },
      "source": [
        "test = Transfer_Model(True, True, True, False) # Train the model"
      ],
      "execution_count": null,
      "outputs": []
    },
    {
      "cell_type": "code",
      "metadata": {
        "id": "54O1_pWxK_pw"
      },
      "source": [
        "loss_plot(test, ' Transfer ', True)"
      ],
      "execution_count": null,
      "outputs": []
    },
    {
      "cell_type": "code",
      "metadata": {
        "id": "kPBCZXpLLM5l"
      },
      "source": [
        "accuracy_plot(test, ' Transfer ', True)"
      ],
      "execution_count": null,
      "outputs": []
    },
    {
      "cell_type": "code",
      "metadata": {
        "id": "B0lviyvLLcTb"
      },
      "source": [
        "test2 = CNN_MLP_Model(False, False, False, False) # Or load weights for the Model"
      ],
      "execution_count": 16,
      "outputs": []
    },
    {
      "cell_type": "code",
      "metadata": {
        "colab": {
          "base_uri": "https://localhost:8080/"
        },
        "id": "Ux3mJK44Lqxd",
        "outputId": "f1b4c025-efee-4560-e7d1-3c0c42c791a2"
      },
      "source": [
        "weights = os.path.join(Parameters.checkpoint_loc, 'test')\n",
        "test2.load_weights(weights)"
      ],
      "execution_count": 19,
      "outputs": [
        {
          "output_type": "execute_result",
          "data": {
            "text/plain": [
              "<tensorflow.python.training.tracking.util.CheckpointLoadStatus at 0x7fe03c9babd0>"
            ]
          },
          "metadata": {
            "tags": []
          },
          "execution_count": 19
        }
      ]
    },
    {
      "cell_type": "markdown",
      "metadata": {
        "id": "2pQatw3KMSA7"
      },
      "source": [
        "# Do it youself"
      ]
    },
    {
      "cell_type": "markdown",
      "metadata": {
        "id": "M6WGFnM-3NpD"
      },
      "source": [
        "# Prep for Modeling\n"
      ]
    },
    {
      "cell_type": "markdown",
      "metadata": {
        "id": "E_z6C4DMeKFG"
      },
      "source": [
        "## Get inputs: DataGenerator, Generate Vectors"
      ]
    },
    {
      "cell_type": "code",
      "metadata": {
        "id": "UFXuOqPc7gZh"
      },
      "source": [
        "# Produces spectrogram images as well as labels for testing, training, and validation sets\n",
        "x_train, y_train, x_test, y_test, x_val, y_val = Get_matrix_inputs(new_audio_path, coswara_audio_path, coswara_audio_path, Parameters.saved_load_loc, load=True)"
      ],
      "execution_count": null,
      "outputs": []
    },
    {
      "cell_type": "code",
      "metadata": {
        "id": "N7jrfQ_s8a-O"
      },
      "source": [
        "# Generates test, train, and validation feature vectors for the model\n",
        "test_data_vec, train_data_vec, val_data_vec = Get_feature_vectors(new_audio_path, coswara_audio_path, coswara_audio_path, Parameters.saved_load_loc, load=True)"
      ],
      "execution_count": null,
      "outputs": []
    },
    {
      "cell_type": "markdown",
      "metadata": {
        "id": "xx04ALY6sHhP"
      },
      "source": [
        "## DataGenerator Viz"
      ]
    },
    {
      "cell_type": "code",
      "metadata": {
        "id": "mh8HT0yJwv3a"
      },
      "source": [
        "# Produces image representations of a select number of spectrograms\n",
        "Data_Viz(5, 5, x_train, y_train)"
      ],
      "execution_count": null,
      "outputs": []
    },
    {
      "cell_type": "markdown",
      "metadata": {
        "id": "tvA3MitneRZN"
      },
      "source": [
        "## Reduce Dim of Vectors"
      ]
    },
    {
      "cell_type": "code",
      "metadata": {
        "id": "U3PydTn53CjM"
      },
      "source": [
        "# Performs dimensionality reduction of the feature vectors\n",
        "x_test2, x_train2, x_val2 = Reduce_Dim(Parameters.PCA_COMPONENTS, train_data_vec, test_data_vec, val_data_vec)"
      ],
      "execution_count": null,
      "outputs": []
    },
    {
      "cell_type": "markdown",
      "metadata": {
        "id": "gEemOXekGDZs"
      },
      "source": [
        "## Get Input Shapes"
      ]
    },
    {
      "cell_type": "code",
      "metadata": {
        "id": "evI_kV1rsyeG"
      },
      "source": [
        "input_shape_1 = x_train.shape[1:]\n",
        "input_shape_1"
      ],
      "execution_count": null,
      "outputs": []
    },
    {
      "cell_type": "code",
      "metadata": {
        "id": "FH910gUesXTN"
      },
      "source": [
        "input_shape_2 = x_train2.shape[1:]\n",
        "input_shape_2"
      ],
      "execution_count": null,
      "outputs": []
    },
    {
      "cell_type": "code",
      "metadata": {
        "id": "HENZw5GkoZHL"
      },
      "source": [
        "metric = {1:'sensitivity_specitivity', 2:'precision_recall', 3:'f_score'}"
      ],
      "execution_count": null,
      "outputs": []
    },
    {
      "cell_type": "markdown",
      "metadata": {
        "id": "shqcrLdKXpwp"
      },
      "source": [
        "# CNN + MLP\n"
      ]
    },
    {
      "cell_type": "code",
      "metadata": {
        "id": "-suLYSvA_UbI"
      },
      "source": [
        "# Builds a model combining of a Convolutional Neural Network and a Multi-Layer Perceptron to use MFCC data as inputs to differentiate between COVID-19 positive and COVID-19 negative audio clips\n",
        "new_model = None\n",
        "new_model = build_model2(input_shape1=input_shape_1, input_shape2=input_shape_2, num_classes=2)"
      ],
      "execution_count": null,
      "outputs": []
    },
    {
      "cell_type": "code",
      "metadata": {
        "id": "9GnloTAMeLvp"
      },
      "source": [
        "# Trains CNN + Multi-Layer Perceptron model using input data from MFCCs ------> best_CNN_MLP_weights.h5\n",
        "model_hist = build_train(new_model, [x_train, x_train2], y_train, Parameters.BATCH_SIZE, Parameters.EPOCHS, Parameters.LEARNING_RATE, check_loc=Parameters.checkpoint_loc, name='test', val_data = ([x_val, x_val2], y_val), show=False)"
      ],
      "execution_count": null,
      "outputs": []
    },
    {
      "cell_type": "code",
      "metadata": {
        "id": "MiU2Ihe5E1q2"
      },
      "source": [
        "predict, threshold, score = get_best_threshold(new_model, [x_test, x_test2], y_test, metric[1], True)\n",
        "print('Threshold:', threshold, 'Score:', score)"
      ],
      "execution_count": null,
      "outputs": []
    },
    {
      "cell_type": "code",
      "metadata": {
        "id": "WjfoAmEM99vD"
      },
      "source": [
        "y_hat = get_predict(predict, threshold)"
      ],
      "execution_count": null,
      "outputs": []
    },
    {
      "cell_type": "code",
      "metadata": {
        "id": "oyQRm0V8f3Yw"
      },
      "source": [
        "tn, fp, fn, tp = plot_cm(y_test.reshape(-1,), y_hat, threshold)\n",
        "print('true_neg:', tn)\n",
        "print('false_pos:', fp)\n",
        "print('false_neg:', fn)\n",
        "print('true_pos:', tp)"
      ],
      "execution_count": null,
      "outputs": []
    },
    {
      "cell_type": "code",
      "metadata": {
        "id": "j9kEh4WCfLg4"
      },
      "source": [
        "Sensitivity, Specificity = get_sen_spec(y_test, y_hat)\n",
        "print('Sensitivity : ', Sensitivity)\n",
        "print('Specificity : ', Specificity)"
      ],
      "execution_count": null,
      "outputs": []
    },
    {
      "cell_type": "code",
      "metadata": {
        "id": "1lReDcSQWJFx"
      },
      "source": [
        "report = classification_report(y_test.reshape(-1,), y_hat, target_names=['0', '1'])\n",
        "print(report)"
      ],
      "execution_count": null,
      "outputs": []
    },
    {
      "cell_type": "code",
      "metadata": {
        "id": "ctStpsGv2W87"
      },
      "source": [
        "loss_plot(model_hist, ' CNN+SLP ', True)"
      ],
      "execution_count": null,
      "outputs": []
    },
    {
      "cell_type": "code",
      "metadata": {
        "id": "0b2iADz63F2o"
      },
      "source": [
        "accuracy_plot(model_hist, ' CNN+SLP ', True)"
      ],
      "execution_count": null,
      "outputs": []
    },
    {
      "cell_type": "markdown",
      "metadata": {
        "id": "QhTZY19MgLKs"
      },
      "source": [
        "# CNN (API)"
      ]
    },
    {
      "cell_type": "code",
      "metadata": {
        "id": "Q4zVrVDrRm4O"
      },
      "source": [
        "# Builds a Convolutional Neural Network (CNN) model \n",
        "a = None\n",
        "a = build_model(input_shape_1, 2)"
      ],
      "execution_count": null,
      "outputs": []
    },
    {
      "cell_type": "code",
      "metadata": {
        "id": "APv3NL7B5xUT"
      },
      "source": [
        "# Trains the CNN model on MFCCs\n",
        "cnn_hist = build_cnn_train(a, x_train, y_train, Parameters.BATCH_SIZE, Parameters.EPOCHS, Parameters.LEARNING_RATE, Parameters.checkpoint_loc, 'test2', False, x_val, y_val)"
      ],
      "execution_count": null,
      "outputs": []
    },
    {
      "cell_type": "code",
      "metadata": {
        "id": "vBqtcHO6KMzh"
      },
      "source": [
        "predict, threshold, score = get_best_threshold(a, x_test, y_test, metric[1], True)\n",
        "print('Threshold:', threshold, 'Score:', score)"
      ],
      "execution_count": null,
      "outputs": []
    },
    {
      "cell_type": "code",
      "metadata": {
        "id": "FRWLqOPCl6uo"
      },
      "source": [
        "y_hat = get_predict(predict, threshold)"
      ],
      "execution_count": null,
      "outputs": []
    },
    {
      "cell_type": "code",
      "metadata": {
        "id": "Kj5R0snUl6up"
      },
      "source": [
        "tn, fp, fn, tp = plot_cm(y_test.reshape(-1,), y_hat, threshold)\n",
        "print('true_neg:', tn)\n",
        "print('false_pos:', fp)\n",
        "print('false_neg:', fn)\n",
        "print('true_pos:', tp)"
      ],
      "execution_count": null,
      "outputs": []
    },
    {
      "cell_type": "code",
      "metadata": {
        "id": "_YSZ39nSl6ut"
      },
      "source": [
        "report = classification_report(y_test.reshape(-1,), y_hat, target_names=['0', '1'], )\n",
        "print(report)"
      ],
      "execution_count": null,
      "outputs": []
    },
    {
      "cell_type": "code",
      "metadata": {
        "id": "A6X1617eg8GH"
      },
      "source": [
        "Sensitivity, Specificity = get_sen_spec(y_test, y_hat)\n",
        "print('Sensitivity : ', Sensitivity)\n",
        "print('Specificity : ', Specificity)"
      ],
      "execution_count": null,
      "outputs": []
    },
    {
      "cell_type": "code",
      "metadata": {
        "id": "wP7hIGy94Z5W"
      },
      "source": [
        "loss_plot(cnn_hist, ' CNN ', True)"
      ],
      "execution_count": null,
      "outputs": []
    },
    {
      "cell_type": "code",
      "metadata": {
        "id": "zRwQTu7O4dZj"
      },
      "source": [
        "accuracy_plot(cnn_hist, ' CNN ', True)"
      ],
      "execution_count": null,
      "outputs": []
    },
    {
      "cell_type": "markdown",
      "metadata": {
        "id": "vI5SQ-1zBq7d"
      },
      "source": [
        "# Transfer Learning"
      ]
    },
    {
      "cell_type": "code",
      "metadata": {
        "id": "qi6oB1okweit"
      },
      "source": [
        "x_train_3d, x_test_3d, x_val_3d = expand_dim_all(x_train, x_test, x_val)"
      ],
      "execution_count": null,
      "outputs": []
    },
    {
      "cell_type": "code",
      "metadata": {
        "id": "mkp-sGXITHE8"
      },
      "source": [
        "models = ['resnet', 'denseNet', 'vgg']"
      ],
      "execution_count": null,
      "outputs": []
    },
    {
      "cell_type": "code",
      "metadata": {
        "id": "sSyKgNdZvU3n"
      },
      "source": [
        "TransferModel = make_transfer_model((512, 215, 3), models[1])"
      ],
      "execution_count": null,
      "outputs": []
    },
    {
      "cell_type": "code",
      "metadata": {
        "id": "X8DvROcCzCrl"
      },
      "source": [
        "transfer_history = build_cnn_train(TransferModel, x_train_3d, y_train, Parameters.BATCH_SIZE, Parameters.EPOCHS, Parameters.LEARNING_RATE, Parameters.checkpoint_loc, 'test3.h5', False, x_val_3d, y_val)"
      ],
      "execution_count": null,
      "outputs": []
    },
    {
      "cell_type": "code",
      "metadata": {
        "id": "sB_JVRgU1VF3"
      },
      "source": [
        "predict, threshold, score = get_best_threshold(TransferModel, x_test_3d, y_test, metric[1], True)\n",
        "print('Threshold:', threshold, 'Score:', score)"
      ],
      "execution_count": null,
      "outputs": []
    },
    {
      "cell_type": "code",
      "metadata": {
        "id": "22EH0m071VF5"
      },
      "source": [
        "y_hat = get_predict(predict, threshold)"
      ],
      "execution_count": null,
      "outputs": []
    },
    {
      "cell_type": "code",
      "metadata": {
        "id": "biBkR1zq1VF6"
      },
      "source": [
        "tn, fp, fn, tp = plot_cm(y_test.reshape(-1,), y_hat, threshold)\n",
        "print('true_neg:', tn)\n",
        "print('false_pos:', fp)\n",
        "print('false_neg:', fn)\n",
        "print('true_pos:', tp)"
      ],
      "execution_count": null,
      "outputs": []
    },
    {
      "cell_type": "code",
      "metadata": {
        "id": "Kw22gDAK1VF8"
      },
      "source": [
        "report = classification_report(y_test.reshape(-1,), y_hat, target_names=['0', '1'])\n",
        "print(report)"
      ],
      "execution_count": null,
      "outputs": []
    },
    {
      "cell_type": "code",
      "metadata": {
        "id": "9XZsvJ0EitnV"
      },
      "source": [
        "Sensitivity, Specificity = get_sen_spec(y_test, y_hat)\n",
        "print('Sensitivity : ', Sensitivity)\n",
        "print('Specificity : ', Specificity)"
      ],
      "execution_count": null,
      "outputs": []
    },
    {
      "cell_type": "code",
      "metadata": {
        "id": "PlqRCkXE1VF9"
      },
      "source": [
        "loss_plot(transfer_history, ' DenseNet ', True)"
      ],
      "execution_count": null,
      "outputs": []
    },
    {
      "cell_type": "code",
      "metadata": {
        "id": "QDxXZrNN1VF-"
      },
      "source": [
        "accuracy_plot(transfer_history, ' DenseNet ', True)"
      ],
      "execution_count": null,
      "outputs": []
    },
    {
      "cell_type": "markdown",
      "metadata": {
        "id": "qbB5H4ck_k8i"
      },
      "source": [
        "# Check if best model can Generalize"
      ]
    },
    {
      "cell_type": "code",
      "metadata": {
        "id": "gzbGqG6U_CK0"
      },
      "source": [
        "x_train_c, y_train_c, x_test_c, y_test_c, x_val_c, y_val_c = Get_matrix_inputs(new_audio_path, coswara_audio_path, new_audio_path, Parameters.saved_load_loc, load=True)\n",
        "test_data_vec_c, train_data_vec_c, val_data_vec_c = Get_feature_vectors(new_audio_path, coswara_audio_path, new_audio_path, Parameters.saved_load_loc, load=True)\n",
        "x_test2_c, x_train2_c, x_val2_c = Reduce_Dim(Parameters.PCA_COMPONENTS, train_data_vec, test_data_vec_c, val_data_vec_c)\n",
        "x_train_3d_c, x_test_3d_c, x_val_3d_c = expand_dim_all(x_train_c, x_test_c, x_val_c)"
      ],
      "execution_count": null,
      "outputs": []
    },
    {
      "cell_type": "code",
      "metadata": {
        "id": "eAGuPf3JvMQ8"
      },
      "source": [
        "predict, threshold, score = get_best_threshold(TransferModel, x_test_3d_c, y_test_c, metric[1], True)\n",
        "print('Threshold:', threshold, 'Score:', score)"
      ],
      "execution_count": null,
      "outputs": []
    },
    {
      "cell_type": "code",
      "metadata": {
        "id": "eNYalpcZvbro"
      },
      "source": [
        "y_hat = get_predict(predict, threshold)"
      ],
      "execution_count": null,
      "outputs": []
    },
    {
      "cell_type": "code",
      "metadata": {
        "id": "MEdVM-gdviLk"
      },
      "source": [
        "tn, fp, fn, tp = plot_cm(y_test_c.reshape(-1,), y_hat, threshold)\n",
        "print('true_neg:', tn)\n",
        "print('false_pos:', fp)\n",
        "print('false_neg:', fn)\n",
        "print('true_pos:', tp)"
      ],
      "execution_count": null,
      "outputs": []
    },
    {
      "cell_type": "code",
      "metadata": {
        "id": "rWmKLik6vnm8"
      },
      "source": [
        "report = classification_report(y_test_c.reshape(-1,), y_hat, target_names=['0', '1'])\n",
        "print(report)"
      ],
      "execution_count": null,
      "outputs": []
    },
    {
      "cell_type": "code",
      "metadata": {
        "id": "OwKa9ijvvqrD"
      },
      "source": [
        "Sensitivity, Specificity = get_sen_spec(y_test_c, y_hat)\n",
        "print('Sensitivity : ', Sensitivity)\n",
        "print('Specificity : ', Specificity)"
      ],
      "execution_count": null,
      "outputs": []
    }
  ]
}